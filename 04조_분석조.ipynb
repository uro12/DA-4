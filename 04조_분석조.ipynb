{
 "cells": [
  {
   "cell_type": "markdown",
   "metadata": {},
   "source": [
    "# 데이터 분석 4조 \n"
   ]
  },
  {
   "cell_type": "markdown",
   "metadata": {},
   "source": [
    "주요 기술\n",
    "- Bar 함수로 특정 연도 각 분야의 전력 사용량 막대그래프로 출력\n",
    "- Pie 함수로 총 전력 사용량 중 각 분야의 전력 사용량을 원그래프로 출력\n",
    "- Plot 함수를 연도별 경제 성장률과 각 분야의 전력 사용량을 꺾은선그래프로 출력\n",
    "- Scatter 함수로 연도별 경제 성장률과 특정 분야의 산점도로 출력\n",
    "- Subplot 함수를 사용해서 위의 여러 그래프를 한눈에 표시\n",
    "\n",
    "예상 결과물\n",
    "- 경제 성장률에 따른 각 분야의 전력 사용량의 상관관계 파악\n",
    "- 발견한 상관관계를 파이썬의 맷플롯립 라이브러리를 통해 시각화\n",
    "\n",
    "기대효과\n",
    "- 연도별 전력수급 실적 데이터를 분석하여 연도별 총 전력 사용량과 각 부문의 전력 사용량 변화가 연도별 경제 성장률의 변화와 상관관계가 있는지 확인할 수 있다.\n",
    "- 연도별로 각 부문의 전력 사용량 변화를 시각화하여 한국의 각 부문의 전력 사용량이 어떻게 변하였는지를 보다 시각적으로 보여줄 수 있다.\n",
    "- 협업 과정을 효율적으로 개선할 수 있다."
   ]
  },
  {
   "cell_type": "markdown",
   "metadata": {},
   "source": [
    "환경설정"
   ]
  },
  {
   "cell_type": "code",
   "execution_count": 1,
   "metadata": {},
   "outputs": [],
   "source": [
    "%config InlineBackend.figure_format = 'retina' # 시각화 데이터를 더 선명하게 함"
   ]
  },
  {
   "cell_type": "code",
   "execution_count": 2,
   "metadata": {},
   "outputs": [],
   "source": [
    "import matplotlib.pyplot as plt  \n",
    "import numpy as np\n",
    "import seaborn as sns\n",
    "plt.rc('font', family='Malgun Gothic') #한글 설정\n",
    "plt.rcParams['font.family'] ='Malgun Gothic' #폰트 설정\n",
    "sns.set_theme(style=\"whitegrid\")  # Seaborn 스타일 적용\n"
   ]
  },
  {
   "cell_type": "markdown",
   "metadata": {},
   "source": [
    " Bar 함수로 특정 연도 각 분야의 전력 사용량 막대그래프로 출력"
   ]
  },
  {
   "cell_type": "code",
   "execution_count": null,
   "metadata": {},
   "outputs": [],
   "source": [
    "# Bar 함수로 특정 연도 각 분야의 전력 사용량 막대그래프로 출력"
   ]
  },
  {
   "cell_type": "markdown",
   "metadata": {},
   "source": [
    "Pie 함수로 총 전력 사용량 중 각 분야의 전력 사용량을 원그래프로 출력"
   ]
  },
  {
   "cell_type": "code",
   "execution_count": null,
   "metadata": {},
   "outputs": [],
   "source": [
    "# Pie 함수로 총 전력 사용량 중 각 분야의 전력 사용량을 원그래프로 출력"
   ]
  },
  {
   "cell_type": "markdown",
   "metadata": {},
   "source": [
    "Plot 함수를 연도별 경제 성장률과 각 분야의 전력 사용량을 꺾은선그래프로 출력"
   ]
  },
  {
   "cell_type": "code",
   "execution_count": null,
   "metadata": {},
   "outputs": [],
   "source": [
    "# Plot 함수를 연도별 경제 성장률과 각 분야의 전력 사용량을 꺾은선그래프로 출력"
   ]
  },
  {
   "cell_type": "markdown",
   "metadata": {},
   "source": [
    "Scatter 함수로 연도별 경제 성장률과 특정 분야의 산점도로 출력"
   ]
  },
  {
   "cell_type": "code",
   "execution_count": 1,
   "metadata": {},
   "outputs": [],
   "source": [
    "# Scatter 함수로 연도별 경제 성장률과 특정 분야의 산점도로 출력"
   ]
  },
  {
   "cell_type": "markdown",
   "metadata": {},
   "source": [
    "Subplot 함수를 사용해서 위의 여러 그래프를 한눈에 표시"
   ]
  },
  {
   "cell_type": "code",
   "execution_count": null,
   "metadata": {},
   "outputs": [],
   "source": [
    "# Subplot 함수를 사용해서 위의 여러 그래프를 한눈에 표시"
   ]
  }
 ],
 "metadata": {
  "kernelspec": {
   "display_name": "base",
   "language": "python",
   "name": "python3"
  },
  "language_info": {
   "codemirror_mode": {
    "name": "ipython",
    "version": 3
   },
   "file_extension": ".py",
   "mimetype": "text/x-python",
   "name": "python",
   "nbconvert_exporter": "python",
   "pygments_lexer": "ipython3",
   "version": "3.12.4"
  }
 },
 "nbformat": 4,
 "nbformat_minor": 2
}
